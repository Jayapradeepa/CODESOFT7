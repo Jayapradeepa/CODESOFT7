{
  "nbformat": 4,
  "nbformat_minor": 0,
  "metadata": {
    "colab": {
      "provenance": [],
      "authorship_tag": "ABX9TyPg5l6hr74lrB6n9ukHkA2a",
      "include_colab_link": true
    },
    "kernelspec": {
      "name": "python3",
      "display_name": "Python 3"
    },
    "language_info": {
      "name": "python"
    }
  },
  "cells": [
    {
      "cell_type": "markdown",
      "metadata": {
        "id": "view-in-github",
        "colab_type": "text"
      },
      "source": [
        "<a href=\"https://colab.research.google.com/github/Jayapradeepa/CODESOFT7/blob/main/Untitled10.ipynb\" target=\"_parent\"><img src=\"https://colab.research.google.com/assets/colab-badge.svg\" alt=\"Open In Colab\"/></a>"
      ]
    },
    {
      "cell_type": "code",
      "execution_count": 2,
      "metadata": {
        "colab": {
          "base_uri": "https://localhost:8080/"
        },
        "id": "XMRQKJMF2msP",
        "outputId": "22c6ef3f-32fc-4ea4-d3bd-87bac9073618"
      },
      "outputs": [
        {
          "output_type": "stream",
          "name": "stdout",
          "text": [
            "Mean Absolute Error: 1.2748262109549338\n",
            "Mean Squared Error: 2.9077569102710896\n",
            "R-squared: 0.9059011844150826\n"
          ]
        }
      ],
      "source": [
        "# Import necessary libraries\n",
        "import pandas as pd\n",
        "from sklearn.model_selection import train_test_split\n",
        "from sklearn.linear_model import LinearRegression\n",
        "from sklearn.metrics import mean_absolute_error, mean_squared_error, r2_score\n",
        "import matplotlib.pyplot as plt\n",
        "\n",
        "# Step 1: Data Collection\n",
        "# Assuming you have a CSV file named 'sales_data.csv'\n",
        "data = pd.read_csv('/content/advertising.csv')\n",
        "\n",
        "# Step 2: Data Cleaning and Preprocessing\n",
        "# Handle missing values, remove outliers, convert categorical variables, etc.\n",
        "\n",
        "# Step 3: Exploratory Data Analysis (EDA)\n",
        "# Visualize data, explore relationships between variables\n",
        "\n",
        "# Step 4: Feature Engineering\n",
        "# No feature engineering for simplicity in this example\n",
        "\n",
        "# Step 5: Split the Data\n",
        "X = data[['TV', 'Radio', 'Newspaper']]  # Features influencing sales\n",
        "y = data['Sales']  # Target variable\n",
        "\n",
        "X_train, X_test, y_train, y_test = train_test_split(X, y, test_size=0.2, random_state=42)\n",
        "\n",
        "# Step 6: Choose a Model\n",
        "model = LinearRegression()\n",
        "\n",
        "# Step 7: Train the Model\n",
        "model.fit(X_train, y_train)\n",
        "\n",
        "# Step 8: Evaluate the Model\n",
        "y_pred = model.predict(X_test)\n",
        "\n",
        "mae = mean_absolute_error(y_test, y_pred)\n",
        "mse = mean_squared_error(y_test, y_pred)\n",
        "r2 = r2_score(y_test, y_pred)\n",
        "\n",
        "print(f'Mean Absolute Error: {mae}')\n",
        "print(f'Mean Squared Error: {mse}')\n",
        "print(f'R-squared: {r2}')\n",
        "\n",
        "# Step 9: Hyperparameter Tuning\n",
        "# Fine-tune hyperparameters if needed\n",
        "\n",
        "# Step 10: Make Predictions\n",
        "# Use the trained model to predict sales for new data\n",
        "\n",
        "# Step 11: Continuous Monitoring and Updating\n",
        "# Regularly check and update the model as needed\n",
        "\n",
        "# Step 12: Deployment\n",
        "# Integrate the model into the business workflow\n",
        "\n"
      ]
    }
  ]
}